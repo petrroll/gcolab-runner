{
  "nbformat": 4,
  "nbformat_minor": 0,
  "metadata": {
    "colab": {
      "name": "runner_v3.ipynb",
      "version": "0.3.2",
      "provenance": [],
      "collapsed_sections": [
        "RFhix75wM7WQ",
        "onipknjFNWEP"
      ]
    },
    "kernelspec": {
      "name": "python3",
      "display_name": "Python 3"
    },
    "accelerator": "GPU"
  },
  "cells": [
    {
      "cell_type": "markdown",
      "metadata": {
        "id": "oVUtRNF4R1fu",
        "colab_type": "text"
      },
      "source": [
        "#### INFO\n"
      ]
    },
    {
      "cell_type": "markdown",
      "metadata": {
        "id": "s09PH-IgJmAL",
        "colab_type": "text"
      },
      "source": [
        "***INITIAL SETUP***\n",
        "\n",
        "1. *Runtime ->  Change Runtime Type -> Python 3 + GPU*\n",
        "2. *Fill in `GDRIVE_DIR` in [code #3] (name of the folder in gdrive that contains your code and data)*\n",
        "\n",
        "***RUNNING THE SCRIPTS***\n",
        "1. *Runtime -> Run All* before the first run. \n",
        "2. Pay attention to the authentification.\n",
        "4. Training - when re-running the training, you **do not** have to run any of the preceding scripts.\n",
        "\n",
        "***ABOUT***\n",
        "\n",
        "- *[code #1] Install dependencies for Tensorboard*\n",
        "- *[code #2] Authenticate & mount Google drive\"*\n",
        "- *[code #3] Setup paths for tensorboard and your script. *\n",
        "- *[code #4] Initialize the functions for tensorflow and runner function*\n",
        "- *[code #5] VM reset script - Kills all processes. Sometimes helps, once the GPU tensorflow stops working, drive fails etc. **! RESETS AUTH !** *\n",
        "- *[code #6] Sample call to run function that actually runs tensorboard and your script.*\n",
        "\n",
        "\n",
        "***FINAL NOTES***\n",
        "\n",
        "Most of this script was copy-pasted from https://medium.com/deep-learning-turkey/google-colab-free-gpu-tutorial-e113627b9f5d\n",
        "\n",
        "The Tensorflow part is taken from https://github.com/mixuala/colab_utils.git + Special thanks to Štěpán Hojdar.\n",
        "\n",
        "Feel free to improve this script - just send me suggestions / bug reports / improved scripts and I will upload it here.\n",
        "\n",
        "Created by Vladislav Vancák & Petr Houška."
      ]
    },
    {
      "cell_type": "markdown",
      "metadata": {
        "id": "RFhix75wM7WQ",
        "colab_type": "text"
      },
      "source": [
        "#### SETUP"
      ]
    },
    {
      "cell_type": "code",
      "metadata": {
        "id": "KNJ2VATvGPZ4",
        "colab_type": "code",
        "colab": {}
      },
      "source": [
        "# TENSORBOARD DEPENDENCIES\n",
        "!git clone https://github.com/mixuala/colab_utils.git"
      ],
      "execution_count": 0,
      "outputs": []
    },
    {
      "cell_type": "code",
      "metadata": {
        "id": "8gW73khbFt5C",
        "colab_type": "code",
        "colab": {}
      },
      "source": [
        "# Google drive \n",
        "from google.colab import drive\n",
        "drive.mount('/drive')\n",
        "\n",
        "ROOT = None"
      ],
      "execution_count": 0,
      "outputs": []
    },
    {
      "cell_type": "markdown",
      "metadata": {
        "id": "E_pHKR3kNGtl",
        "colab_type": "text"
      },
      "source": [
        "#### CONFIG"
      ]
    },
    {
      "cell_type": "code",
      "metadata": {
        "id": "KDuGxDtaVsJG",
        "colab_type": "code",
        "colab": {}
      },
      "source": [
        "# SCRIPT PROPERTIES !!! CHANGE GOOGLE DRIVE FOLDER HERE e.g. GDRIVE_DIR=\"MFF/DL/mnist\" !!!\n",
        "import os\n",
        "\n",
        "GDRIVE_DIR=\"<FOLDER_NAME_IN_GDRIVE>\"\n",
        "\n",
        "if ROOT is not None:\n",
        "  os.chdir(ROOT)\n",
        "\n",
        "ROOT = %pwd\n",
        "SCRIPT_PATH = os.path.join(ROOT, 'drive', GDRIVE_DIR)\n",
        "LOG_DIR = os.path.join(SCRIPT_PATH, 'logs')"
      ],
      "execution_count": 0,
      "outputs": []
    },
    {
      "cell_type": "code",
      "metadata": {
        "id": "yYW_85oIhn9w",
        "colab_type": "code",
        "colab": {}
      },
      "source": [
        "# RUNNER FUNCTION\n",
        "import tensorflow as tf\n",
        "def run_script(name, parameters):\n",
        "  SCRIPT_FILE= name\n",
        "  SCRIPT_ARGS= parameters\n",
        "\n",
        "  os.chdir(SCRIPT_PATH)\n",
        "\n",
        "  device_name = tf.test.gpu_device_name()\n",
        "  if device_name != '/device:GPU:0':\n",
        "    print('[WARN]: GPU device not found. Running in CPU mode')\n",
        "  else:\n",
        "    print('[INFO]: Found GPU at: {}'.format(device_name))  \n",
        "  print('<<= <=> =>>')\n",
        "  \n",
        "  %run $SCRIPT_FILE $SCRIPT_ARGS\n",
        "\n",
        "# TENSORBOARD\n",
        "def tensorboard():\n",
        "  \n",
        "  import os\n",
        "  import sys\n",
        "  import colab_utils.tboard\n",
        "  \n",
        "  os.chdir(ROOT)\n",
        "  colab_utils.tboard.launch_tensorboard( bin_dir=ROOT, log_dir=LOG_DIR)\n",
        "\n",
        "\n",
        "# RUN ALL\n",
        "def run(name, parameters):\n",
        "  print('<<= <=> =>>')\n",
        "  tensorboard()\n",
        "  print('<<= <=> =>>')\n",
        "  \n",
        "  run_script(name, parameters)"
      ],
      "execution_count": 0,
      "outputs": []
    },
    {
      "cell_type": "markdown",
      "metadata": {
        "id": "onipknjFNWEP",
        "colab_type": "text"
      },
      "source": [
        "#### UTILS"
      ]
    },
    {
      "cell_type": "code",
      "metadata": {
        "id": "PlZvrA7wHlqz",
        "colab_type": "code",
        "colab": {}
      },
      "source": [
        "# VM RESET !!! RESETS GOOGLE AUTH !!\n",
        "# !kill -9 -1 "
      ],
      "execution_count": 0,
      "outputs": []
    },
    {
      "cell_type": "markdown",
      "metadata": {
        "id": "thc9rzQuNSrr",
        "colab_type": "text"
      },
      "source": [
        "#### RUN"
      ]
    },
    {
      "cell_type": "code",
      "metadata": {
        "id": "ajtL4LVLHeM0",
        "colab_type": "code",
        "colab": {}
      },
      "source": [
        "run(\n",
        "    \"<script_name>\",\n",
        "    \"<script_parameters>\"\n",
        ")"
      ],
      "execution_count": 0,
      "outputs": []
    }
  ]
}